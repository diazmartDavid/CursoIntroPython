{
 "cells": [
  {
   "cell_type": "markdown",
   "metadata": {},
   "source": [
    "Advertir si un asteroide se acerca peligrosamente a mas de 25 km/h"
   ]
  },
  {
   "cell_type": "code",
   "execution_count": 2,
   "metadata": {},
   "outputs": [
    {
     "name": "stdout",
     "output_type": "stream",
     "text": [
      "posible colisión, asteroide se acerca muy rapido\n"
     ]
    }
   ],
   "source": [
    "velocidadAsteroide = 49 #kms/s\n",
    "if velocidadAsteroide > 25:\n",
    "    print(\"posible colisión, asteroide se acerca muy rapido\" )\n",
    "else:\n",
    "    print(\"No hay peligro de colosi{on de asteroides, disfruta tu dia\")"
   ]
  },
  {
   "cell_type": "markdown",
   "metadata": {},
   "source": [
    "Advertir si un asteroide se peligrosamente o solo mostrará un hermoso resplandor"
   ]
  },
  {
   "cell_type": "code",
   "execution_count": 6,
   "metadata": {},
   "outputs": [
    {
     "name": "stdout",
     "output_type": "stream",
     "text": [
      "no se puede aprecier ningun asteroide en el cielo ahora\n"
     ]
    }
   ],
   "source": [
    "velocidadAsteroide = 19 #kms/s\n",
    "if velocidadAsteroide > 20:\n",
    "    print(\"Asteroide deja su rastro en el cielo,miralo ahora\" )\n",
    "elif velocidadAsteroide == 20:\n",
    "    print(\"Asteroide deja su rastro en el cielo,miralo ahora\")\n",
    "else:\n",
    "    print(\"no se puede aprecier ningun asteroide en el cielo ahora\")"
   ]
  },
  {
   "cell_type": "markdown",
   "metadata": {},
   "source": [
    "Advertencia segun velocidad y tamaño de asteroide"
   ]
  },
  {
   "cell_type": "code",
   "execution_count": 7,
   "metadata": {},
   "outputs": [
    {
     "name": "stdout",
     "output_type": "stream",
     "text": [
      "Asteroide deja su rastro en el cielo,miralo ahora\n"
     ]
    }
   ],
   "source": [
    "velocidadAsteroide = 25 #kms/s\n",
    "masaAsteroide = 90\n",
    "if velocidadAsteroide > 25 and masaAsteroide > 25:\n",
    "    print(\"posible colisión, asteroide se acerca muy rapido\"  )\n",
    "elif velocidadAsteroide >= 20:\n",
    "    print(\"Asteroide deja su rastro en el cielo,miralo ahora\")\n",
    "elif masaAsteroide < 25:\n",
    "    print(\"no se puede aprecier ningun asteroide en el cielo ahora\")\n",
    "else:\n",
    "    print(\"no se puede aprecier ningun asteroide en el cielo ahora\")"
   ]
  }
 ],
 "metadata": {
  "interpreter": {
   "hash": "01f1ad1e1bfb2d2802a8b48eff79aae988e1c8b3cf12b102fc2a9dcaeca4d6e5"
  },
  "kernelspec": {
   "display_name": "Python 3.10.2 64-bit",
   "language": "python",
   "name": "python3"
  },
  "language_info": {
   "codemirror_mode": {
    "name": "ipython",
    "version": 3
   },
   "file_extension": ".py",
   "mimetype": "text/x-python",
   "name": "python",
   "nbconvert_exporter": "python",
   "pygments_lexer": "ipython3",
   "version": "3.10.2"
  },
  "orig_nbformat": 4
 },
 "nbformat": 4,
 "nbformat_minor": 2
}
