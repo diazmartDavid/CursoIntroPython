{
 "cells": [
  {
   "cell_type": "markdown",
   "metadata": {},
   "source": [
    "Ejercicio 1. Transformar cadenas"
   ]
  },
  {
   "cell_type": "code",
   "execution_count": 68,
   "metadata": {},
   "outputs": [
    {
     "name": "stdout",
     "output_type": "stream",
     "text": [
      "The Moon is Earth's only satellite\n",
      "The highest daylight temperature of Moon is 127 C.\n"
     ]
    }
   ],
   "source": [
    "text = \"\"\"Interesting facts about the Moon. The Moon is Earth's only satellite. There are several interesting facts about the Moon and how it affects life here on Earth. On average , the Moon moves 4cm away from the Earth every year. This yearly drift is not significant enough to cause immediate efects on Earth. The highest daylight temperature of Moon is 127 C.\"\"\"\n",
    "\n",
    "#dividir texto cada punto\n",
    "splitText = text.split('. ')\n",
    "#splitText\n",
    "\n",
    "#definir palabras clave para saber si una oración tiene un hecho\n",
    "palabrasClave = [\"temperature\", \"satellite\"]\n",
    "\n",
    "#imprimir solo datos sobre la luna relacionados a las palabras clave, luego actualiza para cambiar de C a Celsius\n",
    "\n",
    "for enunciado in splitText:\n",
    "    #print(enunciado)\n",
    "    for keyWord in palabrasClave:\n",
    "        if keyWord in enunciado:\n",
    "            print(enunciado)\n",
    "            break\n",
    "            \n",
    "\n"
   ]
  },
  {
   "cell_type": "markdown",
   "metadata": {},
   "source": [
    "Grabedad en las lunas"
   ]
  },
  {
   "cell_type": "code",
   "execution_count": 69,
   "metadata": {},
   "outputs": [
    {
     "name": "stdout",
     "output_type": "stream",
     "text": [
      " \n",
      "Datos de gravedad sobre:  marte\n",
      "--------------------------------------------------------\n",
      "Nombre del platena: Ganímedes\n",
      "gravedad en marte: 1.4300000000000002 m/s2\n",
      "\n"
     ]
    }
   ],
   "source": [
    "#Datos para trabajar\n",
    "name = \"marte\" #\"Moon\"\n",
    "gravity = 0.00143 #0.00162 #en kms/s2\n",
    "planet =  \"Ganímedes\"  #\"Earth\"\n",
    "\n",
    "\n",
    "title = f'datos de gravedad acerca de {name}'\n",
    "\n",
    "#facts = f\"\"\"{'-'*50}\n",
    "#Nombre del planeta: {planet}\n",
    "#Gravedad en {name}: {gravity * 1000} m/s2\n",
    "#\"\"\"\n",
    "#print(facts)\n",
    "\n",
    "template = \"\"\" \n",
    "Datos de gravedad sobre:  {name}\n",
    "--------------------------------------------------------\n",
    "Nombre del platena: {planet}\n",
    "gravedad en {name}: {gravity} m/s2\n",
    "\"\"\"\n",
    "print(template.format(name=name, planet = planet, gravity = gravity*1000))\n",
    "\n",
    "\n",
    "\n",
    "\n",
    "\n",
    "\n"
   ]
  }
 ],
 "metadata": {
  "interpreter": {
   "hash": "01f1ad1e1bfb2d2802a8b48eff79aae988e1c8b3cf12b102fc2a9dcaeca4d6e5"
  },
  "kernelspec": {
   "display_name": "Python 3.10.2 64-bit",
   "language": "python",
   "name": "python3"
  },
  "language_info": {
   "codemirror_mode": {
    "name": "ipython",
    "version": 3
   },
   "file_extension": ".py",
   "mimetype": "text/x-python",
   "name": "python",
   "nbconvert_exporter": "python",
   "pygments_lexer": "ipython3",
   "version": "3.10.2"
  },
  "orig_nbformat": 4
 },
 "nbformat": 4,
 "nbformat_minor": 2
}
