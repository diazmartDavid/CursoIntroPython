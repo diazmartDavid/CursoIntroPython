{
 "cells": [
  {
   "cell_type": "markdown",
   "metadata": {},
   "source": [
    "Creación de diccionarios. Ejercicio 1"
   ]
  },
  {
   "cell_type": "code",
   "execution_count": 12,
   "metadata": {},
   "outputs": [
    {
     "name": "stdout",
     "output_type": "stream",
     "text": [
      "El planeta  Mars tiene  2  luna(s)\n",
      "Las circunferencias polar de Mars es  6752 km/s\n",
      "Las circunferencias ecuatorial de Mars es  6792 km/s\n"
     ]
    }
   ],
   "source": [
    "planet = {\n",
    "    'name': 'Mars',\n",
    "    'moon'  : 2\n",
    "\n",
    "}\n",
    "\n",
    "print(\"El planeta \", planet.get('name'), \"tiene \", planet.get('moon'), \" luna(s)\")\n",
    "\n",
    "planet['circunferencia'] = {\n",
    "    'polar': 6752,\n",
    "    'ecuatorial': 6792\n",
    "}\n",
    "\n",
    "\n",
    "print(\"Las circunferencias polar de\", planet.get('name'), \"es \", planet['circunferencia']['polar'], \"km/s\")\n",
    "print(\"Las circunferencias ecuatorial de\", planet.get('name'), \"es \", planet['circunferencia']['ecuatorial'], \"km/s\")"
   ]
  },
  {
   "cell_type": "markdown",
   "metadata": {},
   "source": [
    "Cálculo de valores con diccionarios. Ejercicio 2"
   ]
  },
  {
   "cell_type": "code",
   "execution_count": 24,
   "metadata": {},
   "outputs": [
    {
     "name": "stdout",
     "output_type": "stream",
     "text": [
      "se tienen registradas 11 planetas\n",
      "En total se tienen registradas 212 lunas\n",
      "El promedio de lunas por planeta es:  19.272727272727273\n"
     ]
    }
   ],
   "source": [
    "planet_moons = {\n",
    "    'mercury':0,\n",
    "    'venus':0,\n",
    "    'earth':1,\n",
    "    'jupiter':79,\n",
    "    'saturn':82,\n",
    "    'uranus':27,\n",
    "    'neptune':14,\n",
    "    'pluto':5,\n",
    "    'haumea':2,\n",
    "    'makemake':1,\n",
    "    'eris':1\n",
    "}\n",
    "\n",
    "planeta = planet_moons.values()\n",
    "print('se tienen registradas', len(planeta) , 'planetas')\n",
    "\n",
    "totalLunas = 0\n",
    "\n",
    "for luna in planeta:\n",
    "    totalLunas = totalLunas + luna\n",
    "\n",
    "print('En total se tienen registradas',  totalLunas, 'lunas')\n",
    "\n",
    "print('El promedio de lunas por planeta es: ', totalLunas/len(planeta))\n"
   ]
  }
 ],
 "metadata": {
  "interpreter": {
   "hash": "01f1ad1e1bfb2d2802a8b48eff79aae988e1c8b3cf12b102fc2a9dcaeca4d6e5"
  },
  "kernelspec": {
   "display_name": "Python 3.10.2 64-bit",
   "language": "python",
   "name": "python3"
  },
  "language_info": {
   "codemirror_mode": {
    "name": "ipython",
    "version": 3
   },
   "file_extension": ".py",
   "mimetype": "text/x-python",
   "name": "python",
   "nbconvert_exporter": "python",
   "pygments_lexer": "ipython3",
   "version": "3.10.2"
  },
  "orig_nbformat": 4
 },
 "nbformat": 4,
 "nbformat_minor": 2
}
