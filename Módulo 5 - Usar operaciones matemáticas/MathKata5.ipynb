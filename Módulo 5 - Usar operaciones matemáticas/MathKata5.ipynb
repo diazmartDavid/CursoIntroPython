{
 "cells": [
  {
   "cell_type": "markdown",
   "metadata": {},
   "source": [
    "Distancia entre planetas"
   ]
  },
  {
   "cell_type": "code",
   "execution_count": null,
   "metadata": {},
   "outputs": [],
   "source": [
    "tierra = 149597870\n",
    "jupiter = 778547200\n",
    "\n",
    "distanciaKm = abs(tierra - jupiter)\n",
    "distanciaM = distanciaKm * 0.621\n",
    "print(distanciaKm)\n",
    "print(distanciaM)"
   ]
  },
  {
   "cell_type": "markdown",
   "metadata": {},
   "source": [
    "Distancias de los planetas segun distancia al sol"
   ]
  },
  {
   "cell_type": "code",
   "execution_count": null,
   "metadata": {},
   "outputs": [],
   "source": [
    "planeta1Sol = input('Ingresa la distancia en km del planeta 1 al Sol')\n",
    "planeta2Sol = input('Ingresa la distancia en km del planeta 2 al Sol')\n",
    "\n",
    "planeta1Sol = int(planeta1Sol)\n",
    "planeta2Sol = int(planeta2Sol)\n",
    "\n",
    "distKm = abs(planeta1Sol - planeta2Sol)\n",
    "distMi = distKm * 0.621\n",
    "\n",
    "print(distKm)\n",
    "print(distMi)"
   ]
  }
 ],
 "metadata": {
  "interpreter": {
   "hash": "01f1ad1e1bfb2d2802a8b48eff79aae988e1c8b3cf12b102fc2a9dcaeca4d6e5"
  },
  "kernelspec": {
   "display_name": "Python 3.10.2 64-bit",
   "language": "python",
   "name": "python3"
  },
  "language_info": {
   "codemirror_mode": {
    "name": "ipython",
    "version": 3
   },
   "file_extension": ".py",
   "mimetype": "text/x-python",
   "name": "python",
   "nbconvert_exporter": "python",
   "pygments_lexer": "ipython3",
   "version": "3.10.2"
  },
  "orig_nbformat": 4
 },
 "nbformat": 4,
 "nbformat_minor": 2
}
