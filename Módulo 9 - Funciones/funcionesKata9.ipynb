{
 "cells": [
  {
   "cell_type": "markdown",
   "metadata": {},
   "source": [
    "Combustible en el Cohete"
   ]
  },
  {
   "cell_type": "code",
   "execution_count": 7,
   "metadata": {},
   "outputs": [
    {
     "name": "stdout",
     "output_type": "stream",
     "text": [
      "Reporte de Combustible:\n",
      "    Promedio : 86.66666666666667%\n",
      "    Tanque 1: 90%\n",
      "    Tanque 2: 90%\n",
      "    Tanque 3: 80%\n",
      "    \n"
     ]
    }
   ],
   "source": [
    "# def generarReporte(tanque1,tanque2,tanque3):\n",
    "#     promedio = (tanque1 + tanque2 + tanque3) / 3\n",
    "#     return f\"\"\"Reporte de Combustible:\n",
    "#     Promedio : {promedio}%\n",
    "#     Tanque 1: {tanque1}%\n",
    "#     Tanque 2: {tanque2}%\n",
    "#     Tanque 3: {tanque3}%\n",
    "#     \"\"\"\n",
    "\n",
    "#print(generarReporte(90,80,70))\n",
    "\n",
    "def promedio(tanques):\n",
    "    totalTanques = len(tanques)\n",
    "    porcientos = sum(tanques)\n",
    "    return porcientos/totalTanques\n",
    "\n",
    "#print(promedio([90,90,80]))\n",
    "\n",
    "def generarReporte(tanque1,tanque2,tanque3):\n",
    "    return f\"\"\"Reporte de Combustible:\n",
    "    Promedio : {promedio([tanque1,tanque2,tanque3])}%\n",
    "    Tanque 1: {tanque1}%\n",
    "    Tanque 2: {tanque2}%\n",
    "    Tanque 3: {tanque3}%\n",
    "    \"\"\"\n",
    "print(generarReporte(90,90,80))\n"
   ]
  },
  {
   "cell_type": "markdown",
   "metadata": {},
   "source": [
    "Informe completo de la nave"
   ]
  },
  {
   "cell_type": "code",
   "execution_count": 18,
   "metadata": {},
   "outputs": [
    {
     "name": "stdout",
     "output_type": "stream",
     "text": [
      "\n",
      "    Misión con destino a Mars\n",
      "    Tiempo de viaje estimado: 1068 minutes\n",
      "    Combustible reservado: 9773 litros\n",
      "    El tanque tanqueInt contiene 987 litros \n",
      "El tanque tanqueExt contiene 8786 litros \n",
      "\n"
     ]
    }
   ],
   "source": [
    "# def informecompleto(prelanzado_hora, tiempoDeVuelo, destino, tanqueExterno, tanqueinterno):\n",
    "#     return f\"\"\"\n",
    "#     Misión con destino a {destino}\n",
    "#     Tiempo de viaje estimado: {prelanzado_hora + tiempoDeVuelo} horas\n",
    "#     Combustible reservado: {tanqueExterno + tanqueinterno} litros\n",
    "#     \"\"\"\n",
    "# print(informecompleto(32,980,\"Mars\",189,879)) \n",
    "\n",
    "def informecompleto(destino, *minutes, **fuel_reservoirs):\n",
    "    reporte = f\"\"\"\n",
    "    Misión con destino a {destino}\n",
    "    Tiempo de viaje estimado: {sum(minutes)} minutes\n",
    "    Combustible reservado: {sum(fuel_reservoirs.values())} litros\n",
    "    \"\"\"\n",
    "    for tanque, litros in fuel_reservoirs.items():\n",
    "        reporte += f\"El tanque {tanque} contiene {litros} litros \\n\"\n",
    "    return reporte \n",
    "\n",
    "\n",
    "\n",
    "print(informecompleto(\"Mars\",189,879,tanqueInt = 987, tanqueExt = 8786)) "
   ]
  }
 ],
 "metadata": {
  "interpreter": {
   "hash": "01f1ad1e1bfb2d2802a8b48eff79aae988e1c8b3cf12b102fc2a9dcaeca4d6e5"
  },
  "kernelspec": {
   "display_name": "Python 3.10.2 64-bit",
   "language": "python",
   "name": "python3"
  },
  "language_info": {
   "codemirror_mode": {
    "name": "ipython",
    "version": 3
   },
   "file_extension": ".py",
   "mimetype": "text/x-python",
   "name": "python",
   "nbconvert_exporter": "python",
   "pygments_lexer": "ipython3",
   "version": "3.10.2"
  },
  "orig_nbformat": 4
 },
 "nbformat": 4,
 "nbformat_minor": 2
}
